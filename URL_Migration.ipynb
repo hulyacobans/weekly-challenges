{
  "nbformat": 4,
  "nbformat_minor": 0,
  "metadata": {
    "colab": {
      "name": "URL_Migration.ipynb",
      "provenance": [],
      "authorship_tag": "ABX9TyNvIU7vAdu4GlFgfuguVOtu",
      "include_colab_link": true
    },
    "kernelspec": {
      "name": "python3",
      "display_name": "Python 3"
    }
  },
  "cells": [
    {
      "cell_type": "markdown",
      "metadata": {
        "id": "view-in-github",
        "colab_type": "text"
      },
      "source": [
        "<a href=\"https://colab.research.google.com/github/hulyacobans/weekly-challenges/blob/main/URL_Migration.ipynb\" target=\"_parent\"><img src=\"https://colab.research.google.com/assets/colab-badge.svg\" alt=\"Open In Colab\"/></a>"
      ]
    },
    {
      "cell_type": "markdown",
      "metadata": {
        "id": "jsQIdxaS-8HH"
      },
      "source": [
        "# **1. GA Export**"
      ]
    },
    {
      "cell_type": "markdown",
      "metadata": {
        "id": "5R6Hd1UzB8--"
      },
      "source": [
        "The most difficult part in this script is to get the API key. If you can do that, the rest of the work you should do again SHIFT + ENTER! So here is a great guide how to do that: https://www.jcchouinard.com/google-api/ Thanks for this detailed guide Jean-Christophe :) \n",
        "\n",
        "GA code source: https://www.ilkkapeltola.fi/2018/02/know-exactly-how-much-you-pay-to.html"
      ]
    },
    {
      "cell_type": "code",
      "metadata": {
        "id": "WFx8p7fN-ua5"
      },
      "source": [
        "!pip install -U -q PyDrive\n",
        "from pydrive.auth import GoogleAuth\n",
        "from pydrive.drive import GoogleDrive\n",
        "from google.colab import auth\n",
        "from oauth2client.client import GoogleCredentials\n",
        "auth.authenticate_user()\n",
        "gauth = GoogleAuth()\n",
        "gauth.credentials = GoogleCredentials.get_application_default()\n",
        "drive = GoogleDrive(gauth)"
      ],
      "execution_count": null,
      "outputs": []
    },
    {
      "cell_type": "markdown",
      "metadata": {
        "id": "oDrouYs2Dy_H"
      },
      "source": [
        "Now, please put your client secret json file in your drive and copy URL path"
      ]
    },
    {
      "cell_type": "code",
      "metadata": {
        "id": "-lGHbATsDyW1"
      },
      "source": [
        "link = 'https://drive.google.com/open?id=your-url-path-for-client-secret-file'\n",
        "fluff, id = link.split('=')\n",
        "print (id)"
      ],
      "execution_count": null,
      "outputs": []
    },
    {
      "cell_type": "code",
      "metadata": {
        "id": "AldpxGUPEIwc"
      },
      "source": [
        "downloaded = drive.CreateFile({'id':id}) \n",
        "downloaded.GetContentFile('clientsecret.json') #what's your json file's name? If it is different than clientsecret.json, please change"
      ],
      "execution_count": null,
      "outputs": []
    },
    {
      "cell_type": "code",
      "metadata": {
        "id": "z_6X15whEU9Q"
      },
      "source": [
        "pip install --upgrade google-api-python-client"
      ],
      "execution_count": null,
      "outputs": []
    },
    {
      "cell_type": "code",
      "metadata": {
        "id": "sSDrFgBwEbvN"
      },
      "source": [
        "import argparse\n",
        "from apiclient.discovery import build\n",
        "import httplib2\n",
        "from oauth2client import client\n",
        "from oauth2client import file\n",
        "from oauth2client import tools\n",
        "import pandas as pd\n",
        "\n",
        "SCOPES = ['https://www.googleapis.com/auth/analytics.readonly']\n",
        "DISCOVERY_URI = ('https://analyticsreporting.googleapis.com/$discovery/rest')\n",
        "CLIENT_SECRETS_PATH = 'clientsecret.json' \n",
        "VIEW_ID = 'xxxxxxxxxx' # change view ID"
      ],
      "execution_count": null,
      "outputs": []
    },
    {
      "cell_type": "code",
      "metadata": {
        "id": "hvzvgS5FEkIS"
      },
      "source": [
        "query = {\n",
        "    'reportRequests': [{\n",
        "        'viewId' : 'YOUR VIEW ID',\n",
        "        'pageSize' : 10000,\n",
        "        \n",
        "        'dateRanges': [{'startDate': '90daysAgo', 'endDate': 'today'}],\n",
        "        'dimensions': [{'name': 'ga:landingPagePath'}],\n",
        "        'metrics': [{'expression': 'ga:sessions'}],\n",
        "        \"orderBys\": [\n",
        "          {\n",
        "          \"fieldName\": \"ga:sessions\",\n",
        "          \"sortOrder\": \"DESCENDING\"\n",
        "          }\n",
        "        ],\n",
        "        \"pageSize\": 10000,\n",
        "        'dimensionFilterClauses': [\n",
        "         {\n",
        "          'filters': [\n",
        "            {\n",
        "            \"dimensionName\": \"ga:medium\",\n",
        "            \"expressions\": [\"organic\"]\n",
        "            }\n",
        "          ]\n",
        "        }\n",
        "      ]\n",
        "        }]\n",
        "      }"
      ],
      "execution_count": null,
      "outputs": []
    },
    {
      "cell_type": "code",
      "metadata": {
        "id": "S9aZBU3gzYF1"
      },
      "source": [
        "def initialize_analyticsreporting():\n",
        "    parser = argparse.ArgumentParser(\n",
        "      formatter_class=argparse.RawDescriptionHelpFormatter,\n",
        "      parents=[tools.argparser])\n",
        "    flags = parser.parse_args([])\n",
        "    flow = client.flow_from_clientsecrets(\n",
        "      CLIENT_SECRETS_PATH, scope=SCOPES,\n",
        "      message=tools.message_if_missing(CLIENT_SECRETS_PATH))\n",
        "    storage = file.Storage('analyticsreporting.dat')\n",
        "    credentials = storage.get()\n",
        "    if credentials is None or credentials.invalid:\n",
        "        credentials = tools.run_flow(flow, storage, flags)\n",
        "    http = credentials.authorize(http=httplib2.Http())\n",
        "    analytics = build('analytics', 'v4', http=http, discoveryServiceUrl=DISCOVERY_URI)\n",
        "    return analytics\n",
        "\n",
        "def get_report(analytics, query):\n",
        "    nextPageToken = '0'\n",
        "    responses = []\n",
        "    while (nextPageToken != None):\n",
        "        query['reportRequests'][0]['pageToken'] = nextPageToken\n",
        "        result = analytics.reports().batchGet(\n",
        "          body=query\n",
        "        ).execute()\n",
        "        responses.append(result)\n",
        "        if 'nextPageToken' in result['reports'][0]: \n",
        "            nextPageToken = result['reports'][0]['nextPageToken']\n",
        "        else:\n",
        "            return responses\n",
        "        \n",
        "    return responses\n",
        "    \n",
        "def strip_ga_prefix(string):\n",
        "    if string[:3] == 'ga:':\n",
        "        return string[3:]\n",
        "    else:\n",
        "        return string\n",
        "\n",
        "\n",
        "def get_dataframe(responses):\n",
        "  rowlist = []\n",
        "  for response in responses:\n",
        "      for report in response.get('reports', []):\n",
        "        columnHeader = report.get('columnHeader', {})\n",
        "        dimensionHeaders = columnHeader.get('dimensions', [])\n",
        "        metricHeaders = columnHeader.get('metricHeader', {}).get('metricHeaderEntries', [])\n",
        "\n",
        "        for row in report.get('data', {}).get('rows', []):\n",
        "          new_row = {}\n",
        "          dimensions = row.get('dimensions', [])\n",
        "          dateRangeValues = row.get('metrics', [])\n",
        "\n",
        "          for header, dimension in zip(dimensionHeaders, dimensions):\n",
        "            new_row[strip_ga_prefix(header)] = dimension\n",
        "\n",
        "          for i, values in enumerate(dateRangeValues):\n",
        "            for metricHeader, value in zip(metricHeaders, values.get('values')):\n",
        "              new_row[strip_ga_prefix(metricHeader.get('name'))] = value\n",
        "\n",
        "          rowlist.append(new_row)\n",
        "\n",
        "  df3 = pd.DataFrame(rowlist)\n",
        "  return df3"
      ],
      "execution_count": null,
      "outputs": []
    },
    {
      "cell_type": "code",
      "metadata": {
        "id": "dtnUdRI1ztFq"
      },
      "source": [
        "analytics = initialize_analyticsreporting()\n",
        "response = get_report(analytics, query3)\n",
        "df3 = get_dataframe(response)"
      ],
      "execution_count": null,
      "outputs": []
    },
    {
      "cell_type": "code",
      "metadata": {
        "id": "LYxa9ucVztzW"
      },
      "source": [
        "df3.rename(columns = {'sessions': 'organic_sessions'}, inplace=True)\n",
        "df3.rename(columns={'landingPagePath': 'URL'}, inplace=True)\n",
        "df3['URL'] = 'https://' + df3['URL'].astype(str)\n",
        "df3.head()"
      ],
      "execution_count": null,
      "outputs": []
    },
    {
      "cell_type": "markdown",
      "metadata": {
        "id": "wZ7nUzRe0PZg"
      },
      "source": [
        "# **2. GSC Data**\n",
        "\n",
        "GSC code source: https://sashadagayev.com/bulk-data-extraction-from-google-search-console-using-jupyter/"
      ]
    },
    {
      "cell_type": "code",
      "metadata": {
        "id": "hyJkyTEd0Sx1"
      },
      "source": [
        "import httplib2\n",
        "from apiclient.discovery import build\n",
        "from oauth2client.client import OAuth2WebServerFlow\n",
        "CLIENT_ID = \"YOUR-CLIENt-ID.apps.googleusercontent.com\"\n",
        "CLIENT_SECRET = \"YOURCLIENTSECRET\""
      ],
      "execution_count": null,
      "outputs": []
    },
    {
      "cell_type": "code",
      "metadata": {
        "id": "lwU1i_Sh1xSA"
      },
      "source": [
        "OAUTH_SCOPE = 'https://www.googleapis.com/auth/webmasters.readonly'\n",
        "REDIRECT_URI = 'urn:ietf:wg:oauth:2.0:oob'\n",
        "flow = OAuth2WebServerFlow(CLIENT_ID, CLIENT_SECRET, OAUTH_SCOPE, REDIRECT_URI)\n",
        "authorize_url = flow.step1_get_authorize_url()\n",
        "print('Go to the following link in your browser: ' + authorize_url)\n",
        "code = input('Enter verification code: ').strip()\n",
        "credentials = flow.step2_exchange(code)\n",
        "http = httplib2.Http()\n",
        "http = credentials.authorize(http)\n",
        "webmasters_service = build('webmasters', 'v3', http=http)"
      ],
      "execution_count": null,
      "outputs": []
    },
    {
      "cell_type": "code",
      "metadata": {
        "id": "0lI22u5p158h"
      },
      "source": [
        "site = 'https://www.domain.com' #select domain\n",
        "request = {\n",
        "    'startDate': '2019-12-14', #all requests must include a start AND end date\n",
        "    'endDate': '2020-02-14',\n",
        "    'dimensions': ['page'], #select the dimensions of your response like ['date','query','page']\n",
        "    #'dimensionsFilterGroups':[{'filters'}:[{'dimension':'device','expression':'mobile'}]] - this is sample filter\n",
        "    'rowLimit':25000, #this is the maximum row limit for GSC export data\n",
        "    'startRow':0\n",
        "      }"
      ],
      "execution_count": null,
      "outputs": []
    },
    {
      "cell_type": "code",
      "metadata": {
        "id": "AWnZT5Jo1_Ow"
      },
      "source": [
        "test_response = webmasters_service.searchanalytics().query(siteUrl=site,body=request).execute()\n",
        "test_response"
      ],
      "execution_count": null,
      "outputs": []
    },
    {
      "cell_type": "code",
      "metadata": {
        "id": "F5Q6EFsy2BAK"
      },
      "source": [
        "def get_all_response(domain,request): #this is a function that agreggates responses for API calls over 25000 rows\n",
        "    data = {'page':[], 'clicks':[],'impressions':[],'ctr':[], 'position':[]} #'date':[],'searchQuery':[],'page':[], 'clicks':[],'impressions':[],'ctr':[], 'position':[]\n",
        "    startRow = 0\n",
        "    request['startRow'] = startRow\n",
        "    initresponse = webmasters_service.searchanalytics().query(siteUrl=site,body=request).execute()\n",
        "    last_call_len = len(initresponse['rows'])\n",
        "    mapped_dictionary = map_response_to_dict(initresponse, data)\n",
        "    while last_call_len == 25000:\n",
        "        print('this is running')\n",
        "        startRow = startRow + 25000\n",
        "        request['startRow'] = startRow\n",
        "        response = webmasters_service.searchanalytics().query(siteUrl=site,body=request).execute()\n",
        "        last_call_len = len(response['rows'])\n",
        "        mapped_dictionary = map_response_to_dict(response, data)\n",
        "    return mapped_dictionary\n",
        "\n",
        "def map_response_to_dict(response, data): # this turns the JSON response into an easy to manipulate dictionary for dataframes\n",
        "    for i in response['rows']:\n",
        "        #date = i['keys'][0] #assumes that date is first\n",
        "        #data['date'].append(date)\n",
        "        #searchQuery = i['keys'][1] #assumes that query is second\n",
        "        #data['searchQuery'].append(searchQuery)\n",
        "        page = i['keys'][0] #assumes that page is third - if you add query -- [2]\n",
        "        data['page'].append(page)\n",
        "        clicks = i['clicks']\n",
        "        data['clicks'].append(clicks)\n",
        "        impressions = i['impressions']\n",
        "        data['impressions'].append(impressions)\n",
        "        ctr = i['ctr']\n",
        "        data['ctr'].append(ctr)\n",
        "        position = i['position']\n",
        "        data['position'].append(position)\n",
        "    return data"
      ],
      "execution_count": null,
      "outputs": []
    },
    {
      "cell_type": "code",
      "metadata": {
        "id": "gLT25mPR2HEe"
      },
      "source": [
        "big_dict = get_all_response(site,request)"
      ],
      "execution_count": null,
      "outputs": []
    },
    {
      "cell_type": "code",
      "metadata": {
        "id": "1yqWO_3Q2JHt"
      },
      "source": [
        "console_data = pd.DataFrame(big_dict)\n",
        "console_data"
      ],
      "execution_count": null,
      "outputs": []
    },
    {
      "cell_type": "markdown",
      "metadata": {
        "id": "B2vWAa1z2MG5"
      },
      "source": [
        "# **3. MOZ TOP PAGES**"
      ]
    },
    {
      "cell_type": "code",
      "metadata": {
        "id": "G3p04iyf2OyQ",
        "colab": {
          "resources": {
            "http://localhost:8080/nbextensions/google.colab/files.js": {
              "data": "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",
              "ok": true,
              "headers": [
                [
                  "content-type",
                  "application/javascript"
                ]
              ],
              "status": 200,
              "status_text": ""
            }
          },
          "base_uri": "https://localhost:8080/",
          "height": 38
        },
        "outputId": "3fabdfba-5ef0-4dbc-9bcb-13cf43ba6555"
      },
      "source": [
        "\n",
        "from google.colab import files\n",
        "uploaded = files.upload()"
      ],
      "execution_count": null,
      "outputs": [
        {
          "output_type": "display_data",
          "data": {
            "text/html": [
              "\n",
              "     <input type=\"file\" id=\"files-f88d9cb5-86e3-4fc4-86eb-9d183c89531f\" name=\"files[]\" multiple disabled\n",
              "        style=\"border:none\" />\n",
              "     <output id=\"result-f88d9cb5-86e3-4fc4-86eb-9d183c89531f\">\n",
              "      Upload widget is only available when the cell has been executed in the\n",
              "      current browser session. Please rerun this cell to enable.\n",
              "      </output>\n",
              "      <script src=\"/nbextensions/google.colab/files.js\"></script> "
            ],
            "text/plain": [
              "<IPython.core.display.HTML object>"
            ]
          },
          "metadata": {
            "tags": []
          }
        }
      ]
    },
    {
      "cell_type": "code",
      "metadata": {
        "id": "qdUjA2Mk2SH0"
      },
      "source": [
        "moz = pd.read_csv('moz-top-pages-for-your-domain.csv', skiprows = 5, error_bad_lines=False )\n",
        "moz"
      ],
      "execution_count": null,
      "outputs": []
    },
    {
      "cell_type": "markdown",
      "metadata": {
        "id": "6-DqF0k52fML"
      },
      "source": [
        "# **4. AHREFS LINK REPORT**"
      ]
    },
    {
      "cell_type": "code",
      "metadata": {
        "id": "9NBVCGzg2d8y"
      },
      "source": [
        "from google.colab import files\n",
        "uploaded = files.upload()"
      ],
      "execution_count": null,
      "outputs": []
    },
    {
      "cell_type": "code",
      "metadata": {
        "id": "XchT2MZ52k7O"
      },
      "source": [
        "ahrefs = pd.read_csv('yourdomain-best-pages-by-links-subdomains-17-Feb-2020_14-37-17.csv', encoding = 'utf-16', sep='\\t')\n",
        "ahrefs.head()"
      ],
      "execution_count": null,
      "outputs": []
    },
    {
      "cell_type": "code",
      "metadata": {
        "id": "9UWkVhMH2r4E"
      },
      "source": [
        "#adding https:// \n",
        "\n",
        "moz['URL'] = 'https://' + moz['URL'].astype(str)\n",
        "df['URL'] = 'https://' + df['URL'].astype(str)\n",
        "moz.head()"
      ],
      "execution_count": null,
      "outputs": []
    },
    {
      "cell_type": "code",
      "metadata": {
        "id": "eAvKokGC2xEB"
      },
      "source": [
        "ahrefs2 = ahrefs[['URL', 'Referring Domains', 'Dofollow', 'Nofollow']]\n",
        "moz2 = moz[['URL', 'Total Links', 'Linking Domains to Page']]"
      ],
      "execution_count": null,
      "outputs": []
    },
    {
      "cell_type": "code",
      "metadata": {
        "id": "uZiupM4929ST"
      },
      "source": [
        "merged = pd.merge(df3, console_data, on = 'URL', how = 'left')\n",
        "merged2 = pd.merge(merged, moz2, on='URL', how = 'left')\n",
        "merged3 = pd.merge(merged2, ahrefs2, on='URL', how = 'left')\n",
        "merged3.rename(columns = {'Total Links': 'moz_total_links',\n",
        "                          'Linking Domains to Page': 'moz_linking_domains',\n",
        "                          'Referring Domains': 'ahrefs_referring_domains',\n",
        "                          'Dofollow': 'dofollow',\n",
        "                          'Nofollow': 'nofollow'}, inplace=True)\n",
        "merged3.head()"
      ],
      "execution_count": null,
      "outputs": []
    },
    {
      "cell_type": "code",
      "metadata": {
        "id": "QfL0PFJM3_c4"
      },
      "source": [
        "merged3.to_csv('filename.csv') \n",
        "files.download('filename.csv')"
      ],
      "execution_count": null,
      "outputs": []
    }
  ]
}