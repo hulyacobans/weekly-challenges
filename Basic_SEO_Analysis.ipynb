{
  "nbformat": 4,
  "nbformat_minor": 0,
  "metadata": {
    "colab": {
      "name": "Basic-SEO-Analysis.ipynb",
      "provenance": [],
      "collapsed_sections": [],
      "toc_visible": true,
      "authorship_tag": "ABX9TyOnnbFHnA8pnyT93tpFoVVL",
      "include_colab_link": true
    },
    "kernelspec": {
      "name": "python3",
      "display_name": "Python 3"
    }
  },
  "cells": [
    {
      "cell_type": "markdown",
      "metadata": {
        "id": "view-in-github",
        "colab_type": "text"
      },
      "source": [
        "<a href=\"https://colab.research.google.com/github/hulyacobans/weekly-challenges/blob/main/Basic_SEO_Analysis.ipynb\" target=\"_parent\"><img src=\"https://colab.research.google.com/assets/colab-badge.svg\" alt=\"Open In Colab\"/></a>"
      ]
    },
    {
      "cell_type": "code",
      "metadata": {
        "id": "IW7bRGA85eye"
      },
      "source": [
        "import pandas as pd\n",
        "import numpy as np\n",
        "import matplotlib.pyplot as plt\n",
        "import warnings\n",
        "import seaborn as sns\n",
        "import scipy.stats as stats\n",
        "warnings.filterwarnings('ignore')"
      ],
      "execution_count": null,
      "outputs": []
    },
    {
      "cell_type": "code",
      "metadata": {
        "id": "U0U_lgYQ8ssV"
      },
      "source": [
        "from google.colab import files\n",
        "uploaded = files.upload()"
      ],
      "execution_count": null,
      "outputs": []
    },
    {
      "cell_type": "code",
      "metadata": {
        "id": "ijesiwsA5io3"
      },
      "source": [
        "df = pd.read_excel('internal_all.xlsx')\n",
        "df.head()\n",
        "\n",
        "#df=pd.read_csv(Your-CSV-File.csv)"
      ],
      "execution_count": null,
      "outputs": []
    },
    {
      "cell_type": "markdown",
      "metadata": {
        "id": "b7RKJ_x75tWU"
      },
      "source": [
        "# **Find 404**"
      ]
    },
    {
      "cell_type": "code",
      "metadata": {
        "id": "Rr8JixIX5qw9"
      },
      "source": [
        "df404 = df[df['Status Code'] == 404]\n",
        "df404.head()\n",
        "\n",
        "#If you want to download 404 file, remove # below. \n",
        "#df404.to_csv('export404.csv', sep='\\t', encoding='utf-8')"
      ],
      "execution_count": null,
      "outputs": []
    },
    {
      "cell_type": "markdown",
      "metadata": {
        "id": "JWVlVdPy5zx-"
      },
      "source": [
        "# **Missing Title Check**"
      ]
    },
    {
      "cell_type": "code",
      "metadata": {
        "id": "cbudEZwe5zgN"
      },
      "source": [
        "dtitle = df.loc[df['Title 1'].isnull()]\n",
        "\n",
        "#You can write another column name to see something else"
      ],
      "execution_count": null,
      "outputs": []
    },
    {
      "cell_type": "markdown",
      "metadata": {
        "id": "VN39rePD9RJ2"
      },
      "source": [
        "# **Canonicalised Links**"
      ]
    },
    {
      "cell_type": "code",
      "metadata": {
        "id": "A_rO2KES6QL-"
      },
      "source": [
        "dfcan = df[df['Indexability Status'] == \"Canonicalised\"]\n",
        "dfcan.head()"
      ],
      "execution_count": null,
      "outputs": []
    },
    {
      "cell_type": "code",
      "metadata": {
        "id": "FTeUvUyY9bbH"
      },
      "source": [
        "dfindexable = df[df['Indexability'] == \"Indexable\"]\n",
        "dfindexable.head()"
      ],
      "execution_count": null,
      "outputs": []
    },
    {
      "cell_type": "markdown",
      "metadata": {
        "id": "x8w-MArB63QQ"
      },
      "source": [
        "# **Creating 2 Criterias**"
      ]
    },
    {
      "cell_type": "code",
      "metadata": {
        "id": "N9g05oQ_9oP0"
      },
      "source": [
        "df2 = df[(df.Indexability == \"Indexable\") & (df.Inlinks<=1)]\n",
        "\n",
        "df2.head()"
      ],
      "execution_count": null,
      "outputs": []
    },
    {
      "cell_type": "markdown",
      "metadata": {
        "id": "26D1XPQy95q6"
      },
      "source": [
        "# **Internal Links File**"
      ]
    },
    {
      "cell_type": "code",
      "metadata": {
        "id": "CtHPk9PZ7kT4"
      },
      "source": [
        "from google.colab import files\n",
        "uploaded = files.upload()"
      ],
      "execution_count": null,
      "outputs": []
    },
    {
      "cell_type": "code",
      "metadata": {
        "id": "JnK0wD2x9FXU"
      },
      "source": [
        "df3 = pd.read_excel('all_inlinks.xlsx')\n",
        "df3.tail()"
      ],
      "execution_count": null,
      "outputs": []
    },
    {
      "cell_type": "markdown",
      "metadata": {
        "id": "W2E9_WDf99Ne"
      },
      "source": [
        "# **Anchor Text Visualization**"
      ]
    },
    {
      "cell_type": "code",
      "metadata": {
        "id": "wrOy9Tlr9sAk"
      },
      "source": [
        "from wordcloud import WordCloud, STOPWORDS, ImageColorGenerator\n",
        "import matplotlib.pyplot as plt\n",
        "% matplotlib inline\n",
        "df3['Anchor']=df3['Anchor'].apply(str)\n",
        "\n",
        "df4 = df3[df3['Source'] == 'Your URL Here']\n",
        "wordcloud = WordCloud(background_color=\"white\").generate(\" \".join(df4[\"Anchor\"]))\n",
        "plt.figure(figsize=(10,5))\n",
        "plt.imshow(wordcloud, interpolation='bilinear')\n",
        "plt.axis(\"off\")\n",
        "plt.show()"
      ],
      "execution_count": null,
      "outputs": []
    },
    {
      "cell_type": "code",
      "metadata": {
        "id": "IS96sKU1_gFQ"
      },
      "source": [
        ""
      ],
      "execution_count": null,
      "outputs": []
    },
    {
      "cell_type": "code",
      "metadata": {
        "id": "qvlnkMHjDNBc"
      },
      "source": [
        ""
      ],
      "execution_count": null,
      "outputs": []
    }
  ]
}